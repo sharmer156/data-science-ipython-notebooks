{
 "cells": [
  {
   "cell_type": "markdown",
   "metadata": {},
   "source": [
    "Credits: Forked from [deep-learning-keras-tensorflow](https://github.com/leriomaggio/deep-learning-keras-tensorflow) by Valerio Maggio"
   ]
  },
  {
   "cell_type": "markdown",
   "metadata": {
    "slideshow": {
     "slide_type": "-"
    }
   },
   "source": [
    "<div>\n",
    "    <h1 style=\"text-align: center;\">Deep Learning with Keras</h1>\n",
    "    <img style=\"text-align: left\" src=\"imgs/keras-logo-small.jpg\" width=\"10%\" />\n",
    "<div>\n",
    "\n",
    "<div>\n",
    "    <h2 style=\"text-align: center;\">Tutorial @ EuroScipy 2016</h2>\n",
    "    <img style=\"text-align: left\" src=\"imgs/euroscipy_2016_logo.png\" width=\"40%\" />\n",
    "</div>    "
   ]
  },
  {
   "cell_type": "markdown",
   "metadata": {},
   "source": [
    "##### Yam Peleg,  Valerio Maggio"
   ]
  },
  {
   "cell_type": "markdown",
   "metadata": {
    "slideshow": {
     "slide_type": "-"
    }
   },
   "source": [
    "# Goal of this Tutorial\n",
    "\n",
    "- **Introduce** main features of Keras\n",
    "- **Learn** how simple and Pythonic is doing Deep Learning with Keras\n",
    "- **Understand** how easy is to do basic and *advanced* DL models in Keras;\n",
    "    - **Examples and Hand-on Excerises** along the way."
   ]
  },
  {
   "cell_type": "markdown",
   "metadata": {},
   "source": [
    "## Source\n",
    "\n",
    "https://github.com/leriomaggio/deep-learning-keras-euroscipy2016/"
   ]
  },
  {
   "cell_type": "markdown",
   "metadata": {},
   "source": [
    "---"
   ]
  },
  {
   "cell_type": "markdown",
   "metadata": {
    "collapsed": true
   },
   "source": [
    "# (Tentative) Schedule \n",
    "\n",
    "## Attention: Spoilers Warning!\n",
    "\n",
    "\n",
    "- **Setup** (`10 mins`)\n",
    "\n",
    "- **Part I**: **Introduction** (`~65 mins`)\n",
    "\n",
    "    - Intro to ANN (`~20 mins`)\n",
    "        - naive pure-Python implementation\n",
    "        - fast forward, sgd, backprop\n",
    "        \n",
    "    - Intro to Theano (`15 mins`)\n",
    "        - Model + SGD with Theano\n",
    "        \n",
    "    - Introduction to Keras (`30 mins`)\n",
    "        - Overview and main features\n",
    "            - Theano backend\n",
    "            - Tensorflow backend\n",
    "        - Multi-Layer Perceptron and Fully Connected\n",
    "            - Examples with `keras.models.Sequential` and `Dense`\n",
    "            - HandsOn: MLP with keras\n",
    "            \n",
    "- **Coffe Break** (`30 mins`)\n",
    "\n",
    "- **Part II**: **Supervised Learning and Convolutional Neural Nets** (`~45 mins`)\n",
    "    \n",
    "    - Intro: Focus on Image Classification (`5 mins`)\n",
    "\n",
    "    - Intro to CNN (`25 mins`)\n",
    "        - meaning of convolutional filters\n",
    "            - examples from ImageNet    \n",
    "        - Meaning of dimensions of Conv filters (through an exmple of ConvNet) \n",
    "        - Visualising ConvNets\n",
    "        - HandsOn: ConvNet with keras \n",
    "\n",
    "    - Advanced CNN (`10 mins`)\n",
    "        - Dropout\n",
    "        - MaxPooling\n",
    "        - Batch Normalisation\n",
    "        \n",
    "    - Famous Models in Keras (likely moved somewhere else) (`10 mins`)\n",
    "        (ref: https://github.com/fchollet/deep-learning-models)\n",
    "            - VGG16\n",
    "            - VGG19\n",
    "            - ResNet50\n",
    "            - Inception v3\n",
    "        - HandsOn: Fine tuning a network on new dataset \n",
    "        \n",
    "- **Part III**: **Unsupervised Learning** (`10 mins`)\n",
    "\n",
    "    - AutoEncoders (`5 mins`)\n",
    "    - word2vec & doc2vec (gensim) & `keras.datasets` (`5 mins`)\n",
    "        - `Embedding`\n",
    "        - word2vec and CNN\n",
    "    - Exercises\n",
    "\n",
    "- **Part IV**: **Advanced Materials** (`20 mins`)\n",
    "    - RNN and LSTM (`10 mins`)\n",
    "        -  RNN, LSTM, GRU  \n",
    "    - Example of RNN and LSTM with Text (`~10 mins`) -- *Tentative*\n",
    "    - HandsOn: IMDB\n",
    "\n",
    "- **Wrap up and Conclusions** (`5 mins`)"
   ]
  },
  {
   "cell_type": "markdown",
   "metadata": {},
   "source": [
    "---"
   ]
  },
  {
   "cell_type": "markdown",
   "metadata": {},
   "source": [
    "# Requirements"
   ]
  },
  {
   "cell_type": "markdown",
   "metadata": {},
   "source": [
    "This tutorial requires the following packages:\n",
    "\n",
    "- Python version 3.4+ \n",
    "    - likely Python 2.7 would be fine, but *who knows*? :P\n",
    "- `numpy` version 1.10 or later: http://www.numpy.org/\n",
    "- `scipy` version 0.16 or later: http://www.scipy.org/\n",
    "- `matplotlib` version 1.4 or later: http://matplotlib.org/\n",
    "- `pandas` version 0.16 or later: http://pandas.pydata.org\n",
    "- `scikit-learn` version 0.15 or later: http://scikit-learn.org\n",
    "- `keras` version 1.0 or later: http://keras.io\n",
    "- `theano` version 0.8 or later: http://deeplearning.net/software/theano/\n",
    "- `ipython`/`jupyter` version 4.0 or later, with notebook support\n",
    "\n",
    "(Optional but recommended):\n",
    "\n",
    "- `pyyaml`\n",
    "- `hdf5` and `h5py` (required if you use model saving/loading functions in keras)\n",
    "- **NVIDIA cuDNN** if you have NVIDIA GPUs on your machines.\n",
    "    [https://developer.nvidia.com/rdp/cudnn-download]()\n",
    "\n",
    "The easiest way to get (most) these is to use an all-in-one installer such as [Anaconda](http://www.continuum.io/downloads) from Continuum. These are available for multiple architectures."
   ]
  },
  {
   "cell_type": "markdown",
   "metadata": {},
   "source": [
    "---"
   ]
  },
  {
   "cell_type": "markdown",
   "metadata": {},
   "source": [
    "### Python Version"
   ]
  },
  {
   "cell_type": "markdown",
   "metadata": {},
   "source": [
    "I'm currently running this tutorial with **Python 3** on **Anaconda**"
   ]
  },
  {
   "cell_type": "code",
   "execution_count": 1,
   "metadata": {},
   "outputs": [
    {
     "name": "stderr",
     "output_type": "stream",
     "text": [
      "Python 3.6.6 :: Anaconda custom (64-bit)\n"
     ]
    }
   ],
   "source": [
    "!python --version"
   ]
  },
  {
   "cell_type": "markdown",
   "metadata": {},
   "source": [
    "# How to set up your environment"
   ]
  },
  {
   "cell_type": "markdown",
   "metadata": {},
   "source": [
    "The quickest and simplest way to setup the environment is to use [conda](https://store.continuum.io) environment manager. \n",
    "\n",
    "We provide in the materials a `deep-learning.yml` that is complete and **ready to use** to set up your virtual environment with conda."
   ]
  },
  {
   "cell_type": "code",
   "execution_count": 2,
   "metadata": {
    "scrolled": false
   },
   "outputs": [
    {
     "name": "stderr",
     "output_type": "stream",
     "text": [
      "'cat' 不是内部或外部命令，也不是可运行的程序\n",
      "或批处理文件。\n"
     ]
    }
   ],
   "source": [
    "!cat deep-learning.yml"
   ]
  },
  {
   "cell_type": "markdown",
   "metadata": {},
   "source": [
    "# Recreate the Conda Environment"
   ]
  },
  {
   "cell_type": "markdown",
   "metadata": {},
   "source": [
    "#### A. Create the Environment\n",
    "\n",
    "```\n",
    "conda env create -f deep-learning.yml  # this file is for Linux channels.\n",
    "```\n",
    "\n",
    "If you're using a **Mac OSX**, we also provided in the repo the conda file \n",
    "that is compatible with `osx-channels`:\n",
    "\n",
    "```\n",
    "conda env create -f deep-learning-osx.yml  # this file is for OSX channels.\n",
    "```\n",
    "\n",
    "#### B. Activate the new `deep-learning` Environment\n",
    "\n",
    "```\n",
    "source activate deep-learning\n",
    "```"
   ]
  },
  {
   "cell_type": "markdown",
   "metadata": {},
   "source": [
    "## Optionals"
   ]
  },
  {
   "cell_type": "markdown",
   "metadata": {},
   "source": [
    "### 1. Enabling Conda-Forge"
   ]
  },
  {
   "cell_type": "markdown",
   "metadata": {},
   "source": [
    "It is strongly suggested to enable [**conda forge**](https://conda-forge.github.io/) in your Anaconda installation.\n",
    "\n",
    "**Conda-Forge** is a github organisation containing repositories of conda recipies.\n",
    "\n",
    "To add `conda-forge` as an additional anaconda channel it is just required to type:\n",
    "\n",
    "```shell\n",
    "conda config --add channels conda-forge\n",
    "```"
   ]
  },
  {
   "cell_type": "markdown",
   "metadata": {},
   "source": [
    "### 2. Configure Theano\n",
    "\n",
    "1) Create the `theanorc` file:\n",
    "\n",
    "```shell\n",
    "touch $HOME/.theanorc\n",
    "```\n",
    "\n",
    "2) Copy the following content into the file:\n",
    "\n",
    "```\n",
    "[global]\n",
    "floatX = float32\n",
    "device = gpu  # switch to cpu if no GPU is available on your machine\n",
    "\n",
    "[nvcc]\n",
    "fastmath = True\n",
    "\n",
    "[lib]\n",
    "cnmem=.90\n",
    "```"
   ]
  },
  {
   "cell_type": "markdown",
   "metadata": {},
   "source": [
    "**More on [theano documentation](http://theano.readthedocs.io/en/latest/library/config.html)**"
   ]
  },
  {
   "cell_type": "markdown",
   "metadata": {},
   "source": [
    "### 3. Installing Tensorflow as backend "
   ]
  },
  {
   "cell_type": "markdown",
   "metadata": {},
   "source": [
    "```shell\n",
    "# Ubuntu/Linux 64-bit, GPU enabled, Python 3.5\n",
    "# Requires CUDA toolkit 7.5 and CuDNN v4. For other versions, see \"Install from sources\" below.\n",
    "export TF_BINARY_URL=https://storage.googleapis.com/tensorflow/linux/gpu/tensorflow-0.10.0rc0-cp35-cp35m-linux_x86_64.whl\n",
    "\n",
    "pip install --ignore-installed --upgrade $TF_BINARY_URL\n",
    "```"
   ]
  },
  {
   "cell_type": "markdown",
   "metadata": {},
   "source": [
    "**More on [tensorflow documentation](https://www.tensorflow.org/versions/r0.10/get_started/os_setup.html)**"
   ]
  },
  {
   "cell_type": "markdown",
   "metadata": {},
   "source": [
    "---"
   ]
  },
  {
   "cell_type": "markdown",
   "metadata": {},
   "source": [
    "# Test if everything is up&running"
   ]
  },
  {
   "cell_type": "markdown",
   "metadata": {},
   "source": [
    "## 1. Check import"
   ]
  },
  {
   "cell_type": "code",
   "execution_count": 3,
   "metadata": {},
   "outputs": [],
   "source": [
    "import numpy as np\n",
    "import scipy as sp\n",
    "import pandas as pd\n",
    "import matplotlib.pyplot as plt\n",
    "import sklearn"
   ]
  },
  {
   "cell_type": "code",
   "execution_count": 4,
   "metadata": {},
   "outputs": [],
   "source": [
    "import keras"
   ]
  },
  {
   "cell_type": "markdown",
   "metadata": {},
   "source": [
    "## 2. Check installeded Versions"
   ]
  },
  {
   "cell_type": "code",
   "execution_count": 5,
   "metadata": {},
   "outputs": [
    {
     "name": "stdout",
     "output_type": "stream",
     "text": [
      "numpy: 1.15.0\n",
      "scipy: 1.1.0\n",
      "matplotlib: 2.2.2\n",
      "iPython: 6.1.0\n",
      "scikit-learn: 0.19.1\n"
     ]
    }
   ],
   "source": [
    "import numpy\n",
    "print('numpy:', numpy.__version__)\n",
    "\n",
    "import scipy\n",
    "print('scipy:', scipy.__version__)\n",
    "\n",
    "import matplotlib\n",
    "print('matplotlib:', matplotlib.__version__)\n",
    "\n",
    "import IPython\n",
    "print('iPython:', IPython.__version__)\n",
    "\n",
    "import sklearn\n",
    "print('scikit-learn:', sklearn.__version__)"
   ]
  },
  {
   "cell_type": "code",
   "execution_count": 6,
   "metadata": {},
   "outputs": [
    {
     "ename": "AttributeError",
     "evalue": "module 'keras' has no attribute '__version__'",
     "output_type": "error",
     "traceback": [
      "\u001b[1;31m---------------------------------------------------------------------------\u001b[0m",
      "\u001b[1;31mAttributeError\u001b[0m                            Traceback (most recent call last)",
      "\u001b[1;32m<ipython-input-6-eadb2359c373>\u001b[0m in \u001b[0;36m<module>\u001b[1;34m()\u001b[0m\n\u001b[0;32m      1\u001b[0m \u001b[1;32mimport\u001b[0m \u001b[0mkeras\u001b[0m\u001b[1;33m\u001b[0m\u001b[0m\n\u001b[1;32m----> 2\u001b[1;33m \u001b[0mprint\u001b[0m\u001b[1;33m(\u001b[0m\u001b[1;34m'keras: '\u001b[0m\u001b[1;33m,\u001b[0m \u001b[0mkeras\u001b[0m\u001b[1;33m.\u001b[0m\u001b[0m__version__\u001b[0m\u001b[1;33m)\u001b[0m\u001b[1;33m\u001b[0m\u001b[0m\n\u001b[0m\u001b[0;32m      3\u001b[0m \u001b[1;33m\u001b[0m\u001b[0m\n\u001b[0;32m      4\u001b[0m \u001b[1;32mimport\u001b[0m \u001b[0mtheano\u001b[0m\u001b[1;33m\u001b[0m\u001b[0m\n\u001b[0;32m      5\u001b[0m \u001b[0mprint\u001b[0m\u001b[1;33m(\u001b[0m\u001b[1;34m'Theano: '\u001b[0m\u001b[1;33m,\u001b[0m \u001b[0mtheano\u001b[0m\u001b[1;33m.\u001b[0m\u001b[0m__version__\u001b[0m\u001b[1;33m)\u001b[0m\u001b[1;33m\u001b[0m\u001b[0m\n",
      "\u001b[1;31mAttributeError\u001b[0m: module 'keras' has no attribute '__version__'"
     ]
    }
   ],
   "source": [
    "import keras\n",
    "print('keras: ', keras.__version__)\n",
    "\n",
    "import theano\n",
    "print('Theano: ', theano.__version__)\n",
    "\n",
    "# optional\n",
    "import tensorflow as tf\n",
    "print('Tensorflow: ', tf.__version__)"
   ]
  },
  {
   "cell_type": "markdown",
   "metadata": {},
   "source": [
    "<br>\n",
    "<h1 style=\"text-align: center;\">If everything worked till down here, you're ready to start!</h1>"
   ]
  },
  {
   "cell_type": "markdown",
   "metadata": {},
   "source": [
    "---\n"
   ]
  },
  {
   "cell_type": "markdown",
   "metadata": {},
   "source": [
    "# Consulting Material"
   ]
  },
  {
   "cell_type": "markdown",
   "metadata": {},
   "source": [
    "You have two options to go through the material presented in this tutorial:\n",
    "\n",
    "* Read (and execute) the material as **iPython/Jupyter** notebooks\n",
    "* (just) read the material as (HTML) slides"
   ]
  },
  {
   "cell_type": "markdown",
   "metadata": {},
   "source": [
    "In the first case, all you need to do is just execute `ipython notebook` (or `jupyter notebook`) depending on the version of `iPython` you have installed on your machine\n",
    "\n",
    "(`jupyter` command works in case you have `iPython 4.0.x` installed)"
   ]
  },
  {
   "cell_type": "markdown",
   "metadata": {},
   "source": [
    "In the second case, you may simply convert the provided notebooks in `HTML` slides and see them into your browser\n",
    "thanks to `nbconvert`.\n",
    "\n",
    "Thus, move to the folder where notebooks are stored and execute the following command:\n",
    "\n",
    "    jupyter nbconvert --to slides ./*.ipynb --post serve\n",
    "    \n",
    "   \n",
    "(Please substitute `jupyter` with `ipython` in the previous command if you have `iPython 3.x` installed on your machine)"
   ]
  },
  {
   "cell_type": "markdown",
   "metadata": {},
   "source": [
    "## In case..."
   ]
  },
  {
   "cell_type": "markdown",
   "metadata": {},
   "source": [
    "..you wanna do **both** (interactive and executable slides), I highly suggest to install the terrific `RISE` ipython notebook extension: [https://github.com/damianavila/RISE](https://github.com/damianavila/RISE)"
   ]
  }
 ],
 "metadata": {
  "kernelspec": {
   "display_name": "Python 3",
   "language": "python",
   "name": "python3"
  },
  "language_info": {
   "codemirror_mode": {
    "name": "ipython",
    "version": 3
   },
   "file_extension": ".py",
   "mimetype": "text/x-python",
   "name": "python",
   "nbconvert_exporter": "python",
   "pygments_lexer": "ipython3",
   "version": "3.6.6"
  },
  "toc": {
   "base_numbering": 1,
   "nav_menu": {},
   "number_sections": true,
   "sideBar": true,
   "skip_h1_title": false,
   "title_cell": "Table of Contents",
   "title_sidebar": "Contents",
   "toc_cell": false,
   "toc_position": {},
   "toc_section_display": true,
   "toc_window_display": false
  }
 },
 "nbformat": 4,
 "nbformat_minor": 1
}
